{
 "cells": [
  {
   "cell_type": "markdown",
   "id": "d733aabb-1c7a-42b4-b695-038cd3d2909d",
   "metadata": {},
   "source": [
    "CS 372\n",
    "Assignment 1 - KNN, Naive Bayes, Python, and You!\n",
    "Grace Biggs\n",
    "YOUR NAME HERE\n",
    "YOUR NAME HERE\n",
    "YOUR NAME HERE"
   ]
  },
  {
   "cell_type": "code",
   "execution_count": null,
   "id": "b7b43fb7-925a-4893-96c0-19aa7d511dcf",
   "metadata": {},
   "outputs": [],
   "source": [
    "# Question 1. \n",
    "# Exploratory Data Analysis For Iris Dataset\n",
    "\n",
    "## 1. Check for missing data and duplicates.\n",
    "\n",
    "## 2. Draw a Box Plot to spot outliers.\n",
    "\n",
    "## 3. Draw a Scatter Plot Matrix for Iris flowers' descriptive features.\n",
    "\n",
    "## 4. Plot Heatmap correlation for descriptive features.\n",
    "\n"
   ]
  },
  {
   "cell_type": "code",
   "execution_count": null,
   "id": "41369e35-36a2-4ab5-895a-dc8a575a4ebf",
   "metadata": {},
   "outputs": [],
   "source": [
    "# Split the data 80/20.\n",
    "\n",
    "## 1. Presevere the proportion of each class when splitting. \n",
    "## 2. Shuffle data before split. Also make sure this code block reruns and randomzies the split correctly."
   ]
  },
  {
   "cell_type": "code",
   "execution_count": 1,
   "id": "5911a080-21f5-4f33-947d-238b56051f30",
   "metadata": {},
   "outputs": [],
   "source": [
    "# KNN\n",
    "\n",
    "## 3. Use StandardScaler to put all descriptive features on the same scale.\n",
    "\n",
    "## 4. Implement KNN using SKLearn's KNeighborsClassifier.\n",
    "\n",
    "## 5. Experiment with different distance metrics (Euclidean and Manhattan). Compare the two and comment on your findings.\n",
    "\n",
    "## 6. Choose the best number of neighbors using 5-fold cross validation.\n",
    "\n",
    "## 7. Draw a 2D plot to show the average accuracy of KNN classifier vs. different values of K. Analyze the result and comment on the plot.\n",
    "\n",
    "## 8. Evaluate your model on the test data using Accuracy based on the best K found above. \n",
    "## Show misclassified flowers in a table, with the true label in one column, the predicted table in another column, and another column with your comments.\n"
   ]
  },
  {
   "cell_type": "code",
   "execution_count": null,
   "id": "d6ab2be9-7a64-49c3-a1b6-58f128395d58",
   "metadata": {},
   "outputs": [],
   "source": [
    "# Naive Bayes\n",
    "\n",
    "## 1. Use the built-in SKLearn library to predict the species of Iris in the test dataset.\n",
    "\n",
    "## 2. Use Accuracy to assess the performance of your classifier.\n",
    "\n",
    "## 3. Show misclassified flowers in a table, with the true label in one column, the predicted table in another column, and another column with your comments.\n",
    "\n"
   ]
  },
  {
   "cell_type": "code",
   "execution_count": null,
   "id": "5ace4c3b-eeeb-49e0-832c-7010e71beba1",
   "metadata": {},
   "outputs": [],
   "source": [
    "# Question 2. Predicting the onset of diabetes based on diagnostic measures.\n",
    "# Exploratory Data Analysis of Pima Indians Diabetes Database.\n",
    "\n",
    "## 1. Check for missing data and duplicates.\n",
    "\n",
    "## ..."
   ]
  },
  {
   "cell_type": "code",
   "execution_count": null,
   "id": "af9e8077-2de3-4836-9d58-46ba07a760a0",
   "metadata": {},
   "outputs": [],
   "source": []
  },
  {
   "cell_type": "code",
   "execution_count": null,
   "id": "aab2f7c9-09d5-4e22-a0cc-8dd148b71c4d",
   "metadata": {},
   "outputs": [],
   "source": []
  },
  {
   "cell_type": "code",
   "execution_count": null,
   "id": "dcf21d44-eb9e-42cb-bf20-fbb53bbe1835",
   "metadata": {},
   "outputs": [],
   "source": []
  },
  {
   "cell_type": "code",
   "execution_count": null,
   "id": "920392da-c488-432d-a816-23d8eea7976d",
   "metadata": {},
   "outputs": [],
   "source": []
  },
  {
   "cell_type": "code",
   "execution_count": null,
   "id": "7edb154c-7548-4387-a440-7495204a2070",
   "metadata": {},
   "outputs": [],
   "source": []
  }
 ],
 "metadata": {
  "kernelspec": {
   "display_name": "Python 3 (ipykernel)",
   "language": "python",
   "name": "python3"
  },
  "language_info": {
   "codemirror_mode": {
    "name": "ipython",
    "version": 3
   },
   "file_extension": ".py",
   "mimetype": "text/x-python",
   "name": "python",
   "nbconvert_exporter": "python",
   "pygments_lexer": "ipython3",
   "version": "3.11.7"
  }
 },
 "nbformat": 4,
 "nbformat_minor": 5
}
