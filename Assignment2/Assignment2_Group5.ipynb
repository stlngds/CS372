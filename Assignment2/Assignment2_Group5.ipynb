{
 "cells": [
  {
   "cell_type": "markdown",
   "id": "52321006-6f8e-4fa6-a50e-b402a62d8049",
   "metadata": {},
   "source": [
    "## CS 372\n",
    "\n",
    "### Assignment 2 - Decision Trees\n",
    "\n",
    "- Grace Biggs\n",
    "\n",
    "- Brandon L'Abbe\n",
    "\n",
    "- Lane Thompson\n",
    "\n",
    "- Zhiyi Zhan"
   ]
  },
  {
   "cell_type": "code",
   "execution_count": 1,
   "id": "fab2f777-fb0e-447e-82b3-ac79b4911a80",
   "metadata": {},
   "outputs": [
    {
     "name": "stdout",
     "output_type": "stream",
     "text": [
      "Dataframe: \n",
      "    Unnamed: 0          Unnamed: 1  \\\n",
      "0          NaN                 NaN   \n",
      "1          NaN                 NaN   \n",
      "2          NaN                 NaN   \n",
      "3          NaN                 NaN   \n",
      "4          NaN   Data Description:   \n",
      "5          NaN                 NaN   \n",
      "6          NaN                  ID   \n",
      "7          NaN                 Age   \n",
      "8          NaN          Experience   \n",
      "9          NaN              Income   \n",
      "10         NaN             ZIPCode   \n",
      "11         NaN              Family   \n",
      "12         NaN               CCAvg   \n",
      "13         NaN           Education   \n",
      "14         NaN            Mortgage   \n",
      "15         NaN       Personal Loan   \n",
      "16         NaN  Securities Account   \n",
      "17         NaN          CD Account   \n",
      "18         NaN              Online   \n",
      "19         NaN          CreditCard   \n",
      "\n",
      "                                           Unnamed: 2  \n",
      "0                                                 NaN  \n",
      "1                                                 NaN  \n",
      "2                                                 NaN  \n",
      "3                                                 NaN  \n",
      "4                                                 NaN  \n",
      "5                                                 NaN  \n",
      "6                                         Customer ID  \n",
      "7                   Customer's age in completed years  \n",
      "8                   #years of professional experience  \n",
      "9                Annual income of the customer ($000)  \n",
      "10                             Home Address ZIP code.  \n",
      "11                        Family size of the customer  \n",
      "12     Avg. spending on credit cards per month ($000)  \n",
      "13  Education Level. 1: Undergrad; 2: Graduate; 3:...  \n",
      "14             Value of house mortgage if any. ($000)  \n",
      "15  Did this customer accept the personal loan off...  \n",
      "16  Does the customer have a securities account wi...  \n",
      "17  Does the customer have a certificate of deposi...  \n",
      "18  Does the customer use internet banking facilit...  \n",
      "19  Does the customer use a credit card issued by ...  \n"
     ]
    }
   ],
   "source": [
    "# \n",
    "import pandas as pd\n",
    "\n",
    "df = pd.read_excel('Personal Loan Data_DT.xlsx')\n",
    "print(\"Dataframe: \")\n",
    "print(df)"
   ]
  },
  {
   "cell_type": "code",
   "execution_count": null,
   "id": "4f929da5-5c11-407a-b255-258c5ed53ebd",
   "metadata": {},
   "outputs": [],
   "source": []
  }
 ],
 "metadata": {
  "kernelspec": {
   "display_name": "Python 3 (ipykernel)",
   "language": "python",
   "name": "python3"
  },
  "language_info": {
   "codemirror_mode": {
    "name": "ipython",
    "version": 3
   },
   "file_extension": ".py",
   "mimetype": "text/x-python",
   "name": "python",
   "nbconvert_exporter": "python",
   "pygments_lexer": "ipython3",
   "version": "3.11.7"
  }
 },
 "nbformat": 4,
 "nbformat_minor": 5
}
